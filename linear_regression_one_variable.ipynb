{
 "cells": [
  {
   "cell_type": "code",
   "execution_count": 1,
   "metadata": {},
   "outputs": [],
   "source": [
    "import numpy as np\n",
    "import matplotlib.pyplot as plt\n",
    "import os"
   ]
  },
  {
   "cell_type": "code",
   "execution_count": 2,
   "metadata": {},
   "outputs": [],
   "source": [
    "path = \"/Users/wangmeiqi/Files/machine learning/ex1data1.txt\""
   ]
  },
  {
   "cell_type": "code",
   "execution_count": 3,
   "metadata": {},
   "outputs": [
    {
     "data": {
      "text/plain": [
       "<function TextIOWrapper.close()>"
      ]
     },
     "execution_count": 3,
     "metadata": {},
     "output_type": "execute_result"
    }
   ],
   "source": [
    "f = open(path, 'r')\n",
    "#print(f.read())\n",
    "f.close"
   ]
  },
  {
   "cell_type": "code",
   "execution_count": 4,
   "metadata": {},
   "outputs": [],
   "source": [
    "data = np.loadtxt(path, delimiter=',')\n",
    "x = data[:, 0]\n",
    "y = data[:, 1]\n",
    "x = x.reshape(len(x),1)\n",
    "y = y.reshape(len(y),1)"
   ]
  },
  {
   "cell_type": "code",
   "execution_count": 5,
   "metadata": {},
   "outputs": [
    {
     "name": "stdout",
     "output_type": "stream",
     "text": [
      "x\n",
      "[[ 6.1101]\n",
      " [ 5.5277]\n",
      " [ 8.5186]\n",
      " [ 7.0032]\n",
      " [ 5.8598]\n",
      " [ 8.3829]\n",
      " [ 7.4764]\n",
      " [ 8.5781]\n",
      " [ 6.4862]\n",
      " [ 5.0546]\n",
      " [ 5.7107]\n",
      " [14.164 ]\n",
      " [ 5.734 ]\n",
      " [ 8.4084]\n",
      " [ 5.6407]\n",
      " [ 5.3794]\n",
      " [ 6.3654]\n",
      " [ 5.1301]\n",
      " [ 6.4296]\n",
      " [ 7.0708]\n",
      " [ 6.1891]\n",
      " [20.27  ]\n",
      " [ 5.4901]\n",
      " [ 6.3261]\n",
      " [ 5.5649]\n",
      " [18.945 ]\n",
      " [12.828 ]\n",
      " [10.957 ]\n",
      " [13.176 ]\n",
      " [22.203 ]\n",
      " [ 5.2524]\n",
      " [ 6.5894]\n",
      " [ 9.2482]\n",
      " [ 5.8918]\n",
      " [ 8.2111]\n",
      " [ 7.9334]\n",
      " [ 8.0959]\n",
      " [ 5.6063]\n",
      " [12.836 ]\n",
      " [ 6.3534]\n",
      " [ 5.4069]\n",
      " [ 6.8825]\n",
      " [11.708 ]\n",
      " [ 5.7737]\n",
      " [ 7.8247]\n",
      " [ 7.0931]\n",
      " [ 5.0702]\n",
      " [ 5.8014]\n",
      " [11.7   ]\n",
      " [ 5.5416]\n",
      " [ 7.5402]\n",
      " [ 5.3077]\n",
      " [ 7.4239]\n",
      " [ 7.6031]\n",
      " [ 6.3328]\n",
      " [ 6.3589]\n",
      " [ 6.2742]\n",
      " [ 5.6397]\n",
      " [ 9.3102]\n",
      " [ 9.4536]\n",
      " [ 8.8254]\n",
      " [ 5.1793]\n",
      " [21.279 ]\n",
      " [14.908 ]\n",
      " [18.959 ]\n",
      " [ 7.2182]\n",
      " [ 8.2951]\n",
      " [10.236 ]\n",
      " [ 5.4994]\n",
      " [20.341 ]\n",
      " [10.136 ]\n",
      " [ 7.3345]\n",
      " [ 6.0062]\n",
      " [ 7.2259]\n",
      " [ 5.0269]\n",
      " [ 6.5479]\n",
      " [ 7.5386]\n",
      " [ 5.0365]\n",
      " [10.274 ]\n",
      " [ 5.1077]\n",
      " [ 5.7292]\n",
      " [ 5.1884]\n",
      " [ 6.3557]\n",
      " [ 9.7687]\n",
      " [ 6.5159]\n",
      " [ 8.5172]\n",
      " [ 9.1802]\n",
      " [ 6.002 ]\n",
      " [ 5.5204]\n",
      " [ 5.0594]\n",
      " [ 5.7077]\n",
      " [ 7.6366]\n",
      " [ 5.8707]\n",
      " [ 5.3054]\n",
      " [ 8.2934]\n",
      " [13.394 ]\n",
      " [ 5.4369]]\n",
      "y\n",
      "[[17.592  ]\n",
      " [ 9.1302 ]\n",
      " [13.662  ]\n",
      " [11.854  ]\n",
      " [ 6.8233 ]\n",
      " [11.886  ]\n",
      " [ 4.3483 ]\n",
      " [12.     ]\n",
      " [ 6.5987 ]\n",
      " [ 3.8166 ]\n",
      " [ 3.2522 ]\n",
      " [15.505  ]\n",
      " [ 3.1551 ]\n",
      " [ 7.2258 ]\n",
      " [ 0.71618]\n",
      " [ 3.5129 ]\n",
      " [ 5.3048 ]\n",
      " [ 0.56077]\n",
      " [ 3.6518 ]\n",
      " [ 5.3893 ]\n",
      " [ 3.1386 ]\n",
      " [21.767  ]\n",
      " [ 4.263  ]\n",
      " [ 5.1875 ]\n",
      " [ 3.0825 ]\n",
      " [22.638  ]\n",
      " [13.501  ]\n",
      " [ 7.0467 ]\n",
      " [14.692  ]\n",
      " [24.147  ]\n",
      " [-1.22   ]\n",
      " [ 5.9966 ]\n",
      " [12.134  ]\n",
      " [ 1.8495 ]\n",
      " [ 6.5426 ]\n",
      " [ 4.5623 ]\n",
      " [ 4.1164 ]\n",
      " [ 3.3928 ]\n",
      " [10.117  ]\n",
      " [ 5.4974 ]\n",
      " [ 0.55657]\n",
      " [ 3.9115 ]\n",
      " [ 5.3854 ]\n",
      " [ 2.4406 ]\n",
      " [ 6.7318 ]\n",
      " [ 1.0463 ]\n",
      " [ 5.1337 ]\n",
      " [ 1.844  ]\n",
      " [ 8.0043 ]\n",
      " [ 1.0179 ]\n",
      " [ 6.7504 ]\n",
      " [ 1.8396 ]\n",
      " [ 4.2885 ]\n",
      " [ 4.9981 ]\n",
      " [ 1.4233 ]\n",
      " [-1.4211 ]\n",
      " [ 2.4756 ]\n",
      " [ 4.6042 ]\n",
      " [ 3.9624 ]\n",
      " [ 5.4141 ]\n",
      " [ 5.1694 ]\n",
      " [-0.74279]\n",
      " [17.929  ]\n",
      " [12.054  ]\n",
      " [17.054  ]\n",
      " [ 4.8852 ]\n",
      " [ 5.7442 ]\n",
      " [ 7.7754 ]\n",
      " [ 1.0173 ]\n",
      " [20.992  ]\n",
      " [ 6.6799 ]\n",
      " [ 4.0259 ]\n",
      " [ 1.2784 ]\n",
      " [ 3.3411 ]\n",
      " [-2.6807 ]\n",
      " [ 0.29678]\n",
      " [ 3.8845 ]\n",
      " [ 5.7014 ]\n",
      " [ 6.7526 ]\n",
      " [ 2.0576 ]\n",
      " [ 0.47953]\n",
      " [ 0.20421]\n",
      " [ 0.67861]\n",
      " [ 7.5435 ]\n",
      " [ 5.3436 ]\n",
      " [ 4.2415 ]\n",
      " [ 6.7981 ]\n",
      " [ 0.92695]\n",
      " [ 0.152  ]\n",
      " [ 2.8214 ]\n",
      " [ 1.8451 ]\n",
      " [ 4.2959 ]\n",
      " [ 7.2029 ]\n",
      " [ 1.9869 ]\n",
      " [ 0.14454]\n",
      " [ 9.0551 ]\n",
      " [ 0.61705]]\n"
     ]
    }
   ],
   "source": [
    "print(\"x\")\n",
    "print(x)\n",
    "print(\"y\")\n",
    "print(y)"
   ]
  },
  {
   "cell_type": "code",
   "execution_count": 6,
   "metadata": {},
   "outputs": [
    {
     "data": {
      "text/plain": [
       "[<matplotlib.lines.Line2D at 0x7f8b791679d0>]"
      ]
     },
     "execution_count": 6,
     "metadata": {},
     "output_type": "execute_result"
    },
    {
     "data": {
      "image/png": "[encoded data removed]",
      "text/plain": [
       "<Figure size 432x288 with 1 Axes>"
      ]
     },
     "metadata": {
      "needs_background": "light"
     },
     "output_type": "display_data"
    }
   ],
   "source": [
    "X = np.hstack((np.ones((len(x),1)), x))\n",
    "theta = np.zeros((1, 2))\n",
    "alpha = 0.001 #learning rate\n",
    "iterations = 100\n",
    "plt.plot(x, y, 'rx')\n",
    "plt.xlabel(\"Population of City in 10,000s\")\n",
    "plt.ylabel(\"Profit in $10,000s\")\n",
    "plt.plot(X[:,1], theta[0,0]*X[:,0]+theta[0,1]*X[:,1])"
   ]
  },
  {
   "cell_type": "code",
   "execution_count": 7,
   "metadata": {},
   "outputs": [
    {
     "name": "stdout",
     "output_type": "stream",
     "text": [
      "(97, 2)\n",
      "(1, 2)\n"
     ]
    }
   ],
   "source": [
    "print(np.shape(X))\n",
    "print(np.shape(theta))"
   ]
  },
  {
   "cell_type": "code",
   "execution_count": 8,
   "metadata": {
    "scrolled": true
   },
   "outputs": [
    {
     "data": {
      "text/plain": [
       "array([[32.07273388]])"
      ]
     },
     "execution_count": 8,
     "metadata": {},
     "output_type": "execute_result"
    }
   ],
   "source": [
    "def computeCost(X, y, theta):\n",
    "    J = 0\n",
    "    num = np.shape(X)[0]\n",
    "    for i in range(num):\n",
    "        J = J + (np.dot(theta,np.transpose([X[1,:]]))-y[(i)])**2\n",
    "    J = J/(2*num)\n",
    "    return J\n",
    "computeCost(X, y, theta)"
   ]
  },
  {
   "cell_type": "code",
   "execution_count": 9,
   "metadata": {},
   "outputs": [],
   "source": [
    "#output: theta and J history\n",
    "def gradientDescent(X, y, theta, alpha, num_iters):\n",
    "    J_history = []\n",
    "    for i in range(num_iters):\n",
    "        a = sum(np.multiply((np.transpose(np.dot(theta,np.transpose(X)))-y),X))\n",
    "        theta = theta - alpha*(a/len(y))\n",
    "        J_history = np.append(J_history,computeCost(X, y, theta))\n",
    "    return theta, J_history\n",
    "theta, J_history = gradientDescent(X, y, theta, alpha, iterations)"
   ]
  },
  {
   "cell_type": "code",
   "execution_count": 10,
   "metadata": {
    "scrolled": true
   },
   "outputs": [
    {
     "data": {
      "text/plain": [
       "[<matplotlib.lines.Line2D at 0x7f8b79299410>]"
      ]
     },
     "execution_count": 10,
     "metadata": {},
     "output_type": "execute_result"
    },
    {
     "data": {
      "image/png": "[encoded data removed]",
      "text/plain": [
       "<Figure size 432x288 with 1 Axes>"
      ]
     },
     "metadata": {
      "needs_background": "light"
     },
     "output_type": "display_data"
    }
   ],
   "source": [
    "plt.plot(x, y, 'rx')\n",
    "plt.xlabel(\"Population of City in 10,000s\")\n",
    "plt.ylabel(\"Profit in $10,000s\")\n",
    "plt.plot(X[:,1], theta[0,0]*X[:,0]+theta[0,1]*X[:,1])"
   ]
  },
  {
   "cell_type": "code",
   "execution_count": 11,
   "metadata": {},
   "outputs": [
    {
     "data": {
      "text/plain": [
       "Text(0, 0.5, 'cost')"
      ]
     },
     "execution_count": 11,
     "metadata": {},
     "output_type": "execute_result"
    },
    {
     "data": {
      "image/png": "[encoded data removed]",
      "text/plain": [
       "<Figure size 432x288 with 1 Axes>"
      ]
     },
     "metadata": {
      "needs_background": "light"
     },
     "output_type": "display_data"
    }
   ],
   "source": [
    "plt.plot(J_history)\n",
    "plt.xlabel(\"iteration\")\n",
    "plt.ylabel(\"cost\")"
   ]
  },
  {
   "cell_type": "code",
   "execution_count": 12,
   "metadata": {},
   "outputs": [
    {
     "data": {
      "text/plain": [
       "(97, 2)"
      ]
     },
     "execution_count": 12,
     "metadata": {},
     "output_type": "execute_result"
    }
   ],
   "source": [
    "np.shape(np.multiply((np.transpose(np.dot(theta,np.transpose(X)))-y),X))"
   ]
  }
 ],
 "metadata": {
  "kernelspec": {
   "display_name": "Python 3",
   "language": "python",
   "name": "python3"
  },
  "language_info": {
   "codemirror_mode": {
    "name": "ipython",
    "version": 3
   },
   "file_extension": ".py",
   "mimetype": "text/x-python",
   "name": "python",
   "nbconvert_exporter": "python",
   "pygments_lexer": "ipython3",
   "version": "3.7.6"
  }
 },
 "nbformat": 4,
 "nbformat_minor": 4
}
